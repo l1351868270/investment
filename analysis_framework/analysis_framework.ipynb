{
 "cells": [
  {
   "attachments": {},
   "cell_type": "markdown",
   "metadata": {},
   "source": [
    "# 总纲\n",
    "```\n",
    "基于行为金融学\n",
    "基于事件进行分析，不考虑小道消息，远离傻逼。\n",
    "不进行预测性交易，仔细评估当前所处的市场状态\n",
    "以5年为周期进行大周期分析。\n",
    "10次决策，3次大赚，盈亏比大于1:3即可\n",
    "下单的同时，下止损单，损失不超过资产的1%，强制止损\n",
    "\n",
    "```"
   ]
  },
  {
   "attachments": {},
   "cell_type": "markdown",
   "metadata": {},
   "source": [
    "\n",
    "# 周期\n",
    "```\n",
    "对消息的反应，牛市熊市是不对称的\n",
    "牛市中，稍有利好消息就涨。没有消息时横盘。忽略利空消息\n",
    "熊市中，\n",
    "\n",
    "\n",
    "```\n"
   ]
  },
  {
   "attachments": {},
   "cell_type": "markdown",
   "metadata": {},
   "source": [
    "# 宏观环境\n",
    "```\n",
    "2020.03 新冠疫情全球爆发，所有资产大崩盘\n",
    "2020.03 美联储开始大放水，所有资产开始飙升\n",
    "2022.6月14日-6月15日，美国通胀爆表，美联储激进加息\n",
    "2023.04 美国银行业危机开始蔓延，硅谷银行倒闭\n",
    "\n",
    "```\n"
   ]
  },
  {
   "attachments": {},
   "cell_type": "markdown",
   "metadata": {},
   "source": [
    "# 供求情况\n",
    "```\n",
    "2022.12 白糖\n",
    "```"
   ]
  },
  {
   "attachments": {},
   "cell_type": "markdown",
   "metadata": {},
   "source": [
    "# 产业政策\n",
    "```\n",
    "2015.12月开始去产能去库存\n",
    "2018. 淘汰生猪落后产能\n",
    "2019.06 印尼棕榈油制生物柴油\n",
    "2021.10.12 开始十几道令牌 螺纹钢崩盘\n",
    "```\n"
   ]
  },
  {
   "attachments": {},
   "cell_type": "markdown",
   "metadata": {},
   "source": [
    "# 极端天气\n",
    "```\n",
    "```"
   ]
  },
  {
   "attachments": {},
   "cell_type": "markdown",
   "metadata": {},
   "source": [
    "# 政治事件\n",
    "```\n",
    "2021 中澳关系\n",
    "```"
   ]
  },
  {
   "attachments": {},
   "cell_type": "markdown",
   "metadata": {},
   "source": [
    "# 突发事件\n",
    "```\n",
    "\n",
    "\n",
    "\n",
    "```"
   ]
  },
  {
   "attachments": {},
   "cell_type": "markdown",
   "metadata": {},
   "source": [
    "# 战争，冲突\n",
    "```\n",
    "2022.02 俄罗斯入侵乌克兰，原油暴涨\n",
    "```"
   ]
  }
 ],
 "metadata": {
  "language_info": {
   "name": "python"
  },
  "orig_nbformat": 4
 },
 "nbformat": 4,
 "nbformat_minor": 2
}
