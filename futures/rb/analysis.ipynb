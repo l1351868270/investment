{
 "cells": [
  {
   "cell_type": "code",
   "execution_count": 3,
   "metadata": {},
   "outputs": [
    {
     "name": "stdout",
     "output_type": "stream",
     "text": [
      " 驱动器 D 中的卷是 Data\n",
      " 卷的序列号是 DE82-D46C\n",
      "\n",
      " D:\\code\\lsl\\investment\\futures\\rb 的目录\n",
      "\n",
      "2020/10/12  09:25    <DIR>          .\n",
      "2020/10/12  09:25    <DIR>          ..\n",
      "2020/10/12  09:23    <DIR>          .ipynb_checkpoints\n",
      "2020/10/12  09:25             1,293 analysis.ipynb\n",
      "               1 个文件          1,293 字节\n",
      "               3 个目录 217,918,910,464 可用字节\n"
     ]
    }
   ],
   "source": [
    "!dir"
   ]
  },
  {
   "cell_type": "code",
   "execution_count": null,
   "metadata": {},
   "outputs": [],
   "source": []
  },
  {
   "cell_type": "code",
   "execution_count": null,
   "metadata": {},
   "outputs": [],
   "source": []
  }
 ],
 "metadata": {
  "kernelspec": {
   "display_name": "Python 3",
   "language": "python",
   "name": "python3"
  },
  "language_info": {
   "codemirror_mode": {
    "name": "ipython",
    "version": 3
   },
   "file_extension": ".py",
   "mimetype": "text/x-python",
   "name": "python",
   "nbconvert_exporter": "python",
   "pygments_lexer": "ipython3",
   "version": "3.8.3"
  }
 },
 "nbformat": 4,
 "nbformat_minor": 4
}
